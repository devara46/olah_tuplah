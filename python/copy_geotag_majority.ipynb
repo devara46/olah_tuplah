{
 "cells": [
  {
   "cell_type": "code",
   "execution_count": 1,
   "id": "039826cd-c221-46e8-b5d9-6c7658554063",
   "metadata": {
    "tags": []
   },
   "outputs": [],
   "source": [
    "import geopandas as gpd\n",
    "import pandas as pd\n",
    "import numpy as np\n",
    "\n",
    "from tqdm import tqdm"
   ]
  },
  {
   "cell_type": "code",
   "execution_count": 2,
   "id": "684e334c-0886-40df-aff9-50b6922147fc",
   "metadata": {
    "tags": []
   },
   "outputs": [],
   "source": [
    "poly = gpd.read_file('Tuplah/tuplah_5206.geojson', crs='epsg:3857')\n",
    "tag = gpd.read_file('Tuplah/geotagging_5206.geojson', crs='epsg:3857')\n",
    "bridge = pd.read_csv('03. Bahan Praktik _ Tools Pemrosesan/07.a Bahan Praktik Pengolahan Tutupan Lahan (Materi Bab 6)/input/kode_bridging_tuplah.csv', sep=';')"
   ]
  },
  {
   "cell_type": "code",
   "execution_count": 3,
   "id": "1da95492-f966-4afc-8193-142e46b127d7",
   "metadata": {
    "tags": []
   },
   "outputs": [],
   "source": [
    "poly = poly.dropna(subset='class_id').reset_index(names='poly_id').copy()\n",
    "poly['class_id'] = poly['class_id'].astype(str)\n",
    "poly['class_id'] = poly['class_id'].str.split('.').str[0]"
   ]
  },
  {
   "cell_type": "code",
   "execution_count": 4,
   "id": "09a3a318-5c38-4b30-a751-7e15c19f86d0",
   "metadata": {
    "tags": []
   },
   "outputs": [],
   "source": [
    "bridge['class_id'] = bridge['class_id'].astype(str)\n",
    "bridge['kode_tuplah'] = bridge['kode_tuplah'].astype(str)"
   ]
  },
  {
   "cell_type": "code",
   "execution_count": 5,
   "id": "a96100cf-cd68-4d5d-a5c9-93cb0bab1aca",
   "metadata": {
    "tags": []
   },
   "outputs": [],
   "source": [
    "join1 = gpd.sjoin(poly, tag, how='left', predicate='intersects')"
   ]
  },
  {
   "cell_type": "code",
   "execution_count": 6,
   "id": "54e39526-0c6e-4eab-8ef1-d91def598459",
   "metadata": {
    "tags": []
   },
   "outputs": [],
   "source": [
    "mode = join1.groupby('poly_id')['kode_landmark_tipe'].apply(pd.Series.mode).reset_index(level=1, drop=True)\n",
    "mode_id = mode[mode.groupby(level=0).transform('count') == 1].reset_index()"
   ]
  },
  {
   "cell_type": "code",
   "execution_count": 7,
   "id": "56e20a71-aed0-47e2-8ad3-62861df7e654",
   "metadata": {
    "tags": []
   },
   "outputs": [],
   "source": [
    "join2 = poly.merge(mode_id, how='left', on='poly_id')"
   ]
  },
  {
   "cell_type": "code",
   "execution_count": 8,
   "id": "dfdb9b2b-fc0a-4e23-a479-2c3700accca5",
   "metadata": {
    "tags": []
   },
   "outputs": [],
   "source": [
    "join3 = pd.merge(join2, bridge[['class_id', 'kode_tuplah']], how='left', left_on='kode_landmark_tipe', right_on='kode_tuplah')"
   ]
  },
  {
   "cell_type": "code",
   "execution_count": 9,
   "id": "d7c6d56e-7aba-4ceb-917e-e4742cada9f9",
   "metadata": {
    "tags": []
   },
   "outputs": [],
   "source": [
    "join3.loc[join3['kode_landmark_tipe'].isnull()==False, 'class_id_x'] = join3.loc[join3['kode_landmark_tipe'].isnull()==False, 'class_id_y']\n",
    "result = join3[['fid', 'id_polygon', 'class_id_x', 'idkab', 'layer', 'path', 'geometry']].copy()\n",
    "result.rename(columns={\n",
    "  'fid_left': 'fid',\n",
    "  'class_id_x': 'class_id'\n",
    "}, inplace=True)"
   ]
  },
  {
   "cell_type": "code",
   "execution_count": 40,
   "id": "c1336a46-33dc-41df-b16e-9bfdb420f3da",
   "metadata": {
    "tags": []
   },
   "outputs": [],
   "source": [
    "result.to_file('Tuplah/final.geojson')"
   ]
  },
  {
   "cell_type": "code",
   "execution_count": null,
   "id": "1de017e2-f7df-4fa0-bfbe-220bf8c32a2d",
   "metadata": {},
   "outputs": [],
   "source": []
  }
 ],
 "metadata": {
  "kernelspec": {
   "display_name": "Python 3 (ipykernel)",
   "language": "python",
   "name": "python3"
  },
  "language_info": {
   "codemirror_mode": {
    "name": "ipython",
    "version": 3
   },
   "file_extension": ".py",
   "mimetype": "text/x-python",
   "name": "python",
   "nbconvert_exporter": "python",
   "pygments_lexer": "ipython3",
   "version": "3.10.9"
  }
 },
 "nbformat": 4,
 "nbformat_minor": 5
}
